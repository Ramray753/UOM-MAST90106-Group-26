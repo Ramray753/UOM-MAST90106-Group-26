{
 "cells": [
  {
   "cell_type": "markdown",
   "metadata": {},
   "source": [
    "# Pixel and Crack Coorelation Test"
   ]
  },
  {
   "cell_type": "code",
   "execution_count": 33,
   "metadata": {},
   "outputs": [],
   "source": [
    "import pandas as pd\n",
    "\n",
    "csv_file = \"Correlation demo.csv\"\n",
    "csv_data = pd.read_csv(csv_file, low_memory = False)\n",
    "csv_df = pd.DataFrame(csv_data)"
   ]
  },
  {
   "cell_type": "code",
   "execution_count": 34,
   "metadata": {},
   "outputs": [
    {
     "data": {
      "text/html": [
       "<div>\n",
       "<style scoped>\n",
       "    .dataframe tbody tr th:only-of-type {\n",
       "        vertical-align: middle;\n",
       "    }\n",
       "\n",
       "    .dataframe tbody tr th {\n",
       "        vertical-align: top;\n",
       "    }\n",
       "\n",
       "    .dataframe thead th {\n",
       "        text-align: right;\n",
       "    }\n",
       "</style>\n",
       "<table border=\"1\" class=\"dataframe\">\n",
       "  <thead>\n",
       "    <tr style=\"text-align: right;\">\n",
       "      <th></th>\n",
       "      <th>Image</th>\n",
       "      <th>crack</th>\n",
       "      <th>Write Pixel</th>\n",
       "      <th>Black Pixel</th>\n",
       "    </tr>\n",
       "  </thead>\n",
       "  <tbody>\n",
       "    <tr>\n",
       "      <td>0</td>\n",
       "      <td>AdpG_00001-1</td>\n",
       "      <td>long</td>\n",
       "      <td>0.044783</td>\n",
       "      <td>0.955217</td>\n",
       "    </tr>\n",
       "    <tr>\n",
       "      <td>1</td>\n",
       "      <td>AdpG_00001-2</td>\n",
       "      <td>long</td>\n",
       "      <td>0.065562</td>\n",
       "      <td>0.934438</td>\n",
       "    </tr>\n",
       "    <tr>\n",
       "      <td>2</td>\n",
       "      <td>AdpG_00001-3</td>\n",
       "      <td>long</td>\n",
       "      <td>0.048043</td>\n",
       "      <td>0.951957</td>\n",
       "    </tr>\n",
       "    <tr>\n",
       "      <td>3</td>\n",
       "      <td>AdpG_00002-1</td>\n",
       "      <td>none</td>\n",
       "      <td>0.163147</td>\n",
       "      <td>0.836853</td>\n",
       "    </tr>\n",
       "    <tr>\n",
       "      <td>4</td>\n",
       "      <td>AdpG_00002-2</td>\n",
       "      <td>none</td>\n",
       "      <td>0.018828</td>\n",
       "      <td>0.981172</td>\n",
       "    </tr>\n",
       "    <tr>\n",
       "      <td>...</td>\n",
       "      <td>...</td>\n",
       "      <td>...</td>\n",
       "      <td>...</td>\n",
       "      <td>...</td>\n",
       "    </tr>\n",
       "    <tr>\n",
       "      <td>2995</td>\n",
       "      <td>AdpG_00999-2</td>\n",
       "      <td>long</td>\n",
       "      <td>0.048394</td>\n",
       "      <td>0.951606</td>\n",
       "    </tr>\n",
       "    <tr>\n",
       "      <td>2996</td>\n",
       "      <td>AdpG_00999-3</td>\n",
       "      <td>long</td>\n",
       "      <td>0.032005</td>\n",
       "      <td>0.967995</td>\n",
       "    </tr>\n",
       "    <tr>\n",
       "      <td>2997</td>\n",
       "      <td>AdpG_01000-1</td>\n",
       "      <td>none</td>\n",
       "      <td>0.088233</td>\n",
       "      <td>0.911767</td>\n",
       "    </tr>\n",
       "    <tr>\n",
       "      <td>2998</td>\n",
       "      <td>AdpG_01000-2</td>\n",
       "      <td>none</td>\n",
       "      <td>0.171255</td>\n",
       "      <td>0.828745</td>\n",
       "    </tr>\n",
       "    <tr>\n",
       "      <td>2999</td>\n",
       "      <td>AdpG_01000-3</td>\n",
       "      <td>none</td>\n",
       "      <td>0.205640</td>\n",
       "      <td>0.794360</td>\n",
       "    </tr>\n",
       "  </tbody>\n",
       "</table>\n",
       "<p>3000 rows × 4 columns</p>\n",
       "</div>"
      ],
      "text/plain": [
       "             Image crack  Write Pixel  Black Pixel\n",
       "0     AdpG_00001-1  long     0.044783     0.955217\n",
       "1     AdpG_00001-2  long     0.065562     0.934438\n",
       "2     AdpG_00001-3  long     0.048043     0.951957\n",
       "3     AdpG_00002-1  none     0.163147     0.836853\n",
       "4     AdpG_00002-2  none     0.018828     0.981172\n",
       "...            ...   ...          ...          ...\n",
       "2995  AdpG_00999-2  long     0.048394     0.951606\n",
       "2996  AdpG_00999-3  long     0.032005     0.967995\n",
       "2997  AdpG_01000-1  none     0.088233     0.911767\n",
       "2998  AdpG_01000-2  none     0.171255     0.828745\n",
       "2999  AdpG_01000-3  none     0.205640     0.794360\n",
       "\n",
       "[3000 rows x 4 columns]"
      ]
     },
     "execution_count": 34,
     "metadata": {},
     "output_type": "execute_result"
    }
   ],
   "source": [
    "csv_df"
   ]
  },
  {
   "cell_type": "code",
   "execution_count": null,
   "metadata": {},
   "outputs": [],
   "source": [
    "df = csv_df.replace(['none', 1], ['long', 2], ['lat', 3], ['diag', 4], ['croc', 5], ['rail', 6])"
   ]
  },
  {
   "cell_type": "code",
   "execution_count": 36,
   "metadata": {},
   "outputs": [
    {
     "data": {
      "text/html": [
       "<div>\n",
       "<style scoped>\n",
       "    .dataframe tbody tr th:only-of-type {\n",
       "        vertical-align: middle;\n",
       "    }\n",
       "\n",
       "    .dataframe tbody tr th {\n",
       "        vertical-align: top;\n",
       "    }\n",
       "\n",
       "    .dataframe thead th {\n",
       "        text-align: right;\n",
       "    }\n",
       "</style>\n",
       "<table border=\"1\" class=\"dataframe\">\n",
       "  <thead>\n",
       "    <tr style=\"text-align: right;\">\n",
       "      <th></th>\n",
       "      <th>Image</th>\n",
       "      <th>crack</th>\n",
       "      <th>Write Pixel</th>\n",
       "      <th>Black Pixel</th>\n",
       "    </tr>\n",
       "  </thead>\n",
       "  <tbody>\n",
       "    <tr>\n",
       "      <td>0</td>\n",
       "      <td>AdpG_00001-1</td>\n",
       "      <td>2</td>\n",
       "      <td>0.044783</td>\n",
       "      <td>0.955217</td>\n",
       "    </tr>\n",
       "    <tr>\n",
       "      <td>1</td>\n",
       "      <td>AdpG_00001-2</td>\n",
       "      <td>2</td>\n",
       "      <td>0.065562</td>\n",
       "      <td>0.934438</td>\n",
       "    </tr>\n",
       "    <tr>\n",
       "      <td>2</td>\n",
       "      <td>AdpG_00001-3</td>\n",
       "      <td>2</td>\n",
       "      <td>0.048043</td>\n",
       "      <td>0.951957</td>\n",
       "    </tr>\n",
       "    <tr>\n",
       "      <td>3</td>\n",
       "      <td>AdpG_00002-1</td>\n",
       "      <td>1</td>\n",
       "      <td>0.163147</td>\n",
       "      <td>0.836853</td>\n",
       "    </tr>\n",
       "    <tr>\n",
       "      <td>4</td>\n",
       "      <td>AdpG_00002-2</td>\n",
       "      <td>1</td>\n",
       "      <td>0.018828</td>\n",
       "      <td>0.981172</td>\n",
       "    </tr>\n",
       "    <tr>\n",
       "      <td>...</td>\n",
       "      <td>...</td>\n",
       "      <td>...</td>\n",
       "      <td>...</td>\n",
       "      <td>...</td>\n",
       "    </tr>\n",
       "    <tr>\n",
       "      <td>2995</td>\n",
       "      <td>AdpG_00999-2</td>\n",
       "      <td>2</td>\n",
       "      <td>0.048394</td>\n",
       "      <td>0.951606</td>\n",
       "    </tr>\n",
       "    <tr>\n",
       "      <td>2996</td>\n",
       "      <td>AdpG_00999-3</td>\n",
       "      <td>2</td>\n",
       "      <td>0.032005</td>\n",
       "      <td>0.967995</td>\n",
       "    </tr>\n",
       "    <tr>\n",
       "      <td>2997</td>\n",
       "      <td>AdpG_01000-1</td>\n",
       "      <td>1</td>\n",
       "      <td>0.088233</td>\n",
       "      <td>0.911767</td>\n",
       "    </tr>\n",
       "    <tr>\n",
       "      <td>2998</td>\n",
       "      <td>AdpG_01000-2</td>\n",
       "      <td>1</td>\n",
       "      <td>0.171255</td>\n",
       "      <td>0.828745</td>\n",
       "    </tr>\n",
       "    <tr>\n",
       "      <td>2999</td>\n",
       "      <td>AdpG_01000-3</td>\n",
       "      <td>1</td>\n",
       "      <td>0.205640</td>\n",
       "      <td>0.794360</td>\n",
       "    </tr>\n",
       "  </tbody>\n",
       "</table>\n",
       "<p>3000 rows × 4 columns</p>\n",
       "</div>"
      ],
      "text/plain": [
       "             Image  crack  Write Pixel  Black Pixel\n",
       "0     AdpG_00001-1      2     0.044783     0.955217\n",
       "1     AdpG_00001-2      2     0.065562     0.934438\n",
       "2     AdpG_00001-3      2     0.048043     0.951957\n",
       "3     AdpG_00002-1      1     0.163147     0.836853\n",
       "4     AdpG_00002-2      1     0.018828     0.981172\n",
       "...            ...    ...          ...          ...\n",
       "2995  AdpG_00999-2      2     0.048394     0.951606\n",
       "2996  AdpG_00999-3      2     0.032005     0.967995\n",
       "2997  AdpG_01000-1      1     0.088233     0.911767\n",
       "2998  AdpG_01000-2      1     0.171255     0.828745\n",
       "2999  AdpG_01000-3      1     0.205640     0.794360\n",
       "\n",
       "[3000 rows x 4 columns]"
      ]
     },
     "execution_count": 36,
     "metadata": {},
     "output_type": "execute_result"
    }
   ],
   "source": [
    "df = csv_df.replace('none', 1)\n",
    "df = df.replace('long', 2)\n",
    "df = df.replace('lat', 3)\n",
    "df = df.replace('diag', 4)\n",
    "df = df.replace('croc', 5)\n",
    "df = df.replace('RAIl', 6)\n",
    "df"
   ]
  },
  {
   "cell_type": "code",
   "execution_count": 37,
   "metadata": {},
   "outputs": [],
   "source": [
    "y = df['crack']\n",
    "x = df['Write Pixel']"
   ]
  },
  {
   "cell_type": "code",
   "execution_count": 26,
   "metadata": {
    "scrolled": false
   },
   "outputs": [
    {
     "ename": "NameError",
     "evalue": "name 'scipy' is not defined",
     "output_type": "error",
     "traceback": [
      "\u001b[0;31m---------------------------------------------------------------------------\u001b[0m",
      "\u001b[0;31mNameError\u001b[0m                                 Traceback (most recent call last)",
      "\u001b[0;32m<ipython-input-26-601225606cf1>\u001b[0m in \u001b[0;36m<module>\u001b[0;34m\u001b[0m\n\u001b[1;32m      1\u001b[0m \u001b[0;32mfrom\u001b[0m \u001b[0mscipy\u001b[0m\u001b[0;34m.\u001b[0m\u001b[0mstats\u001b[0m\u001b[0;34m.\u001b[0m\u001b[0mstats\u001b[0m \u001b[0;32mimport\u001b[0m \u001b[0mpearsonr\u001b[0m\u001b[0;34m\u001b[0m\u001b[0;34m\u001b[0m\u001b[0m\n\u001b[0;32m----> 2\u001b[0;31m \u001b[0mscipy\u001b[0m\u001b[0;34m.\u001b[0m\u001b[0mstats\u001b[0m\u001b[0;34m.\u001b[0m\u001b[0mpearsonr\u001b[0m\u001b[0;34m(\u001b[0m\u001b[0mx\u001b[0m\u001b[0;34m,\u001b[0m \u001b[0my\u001b[0m\u001b[0;34m)\u001b[0m\u001b[0;34m\u001b[0m\u001b[0;34m\u001b[0m\u001b[0m\n\u001b[0m",
      "\u001b[0;31mNameError\u001b[0m: name 'scipy' is not defined"
     ]
    }
   ],
   "source": [
    "from scipy.stats.stats import pearsonr\n",
    "scipy.stats.pearsonr(x, y)"
   ]
  },
  {
   "cell_type": "code",
   "execution_count": 27,
   "metadata": {},
   "outputs": [
    {
     "name": "stdout",
     "output_type": "stream",
     "text": [
      "Pearson Correlation Coefficient:  -0.07638893604520022 and a P-value of: 0.008113700469705347\n"
     ]
    }
   ],
   "source": [
    "from scipy import stats # For in-built method to get PCC   # 1200\n",
    "\n",
    "pearson_coef, p_value = stats.pearsonr(x, y) #define the columns to perform calculations on\n",
    "print(\"Pearson Correlation Coefficient: \", pearson_coef, \"and a P-value of:\", p_value) # Results "
   ]
  },
  {
   "cell_type": "code",
   "execution_count": 32,
   "metadata": {},
   "outputs": [
    {
     "name": "stdout",
     "output_type": "stream",
     "text": [
      "Pearson Correlation Coefficient:  -0.08411640825420733 and a P-value of: 0.0011106742080569762\n"
     ]
    }
   ],
   "source": [
    "from scipy import stats # For in-built method to get PCC    # 2000\n",
    "\n",
    "pearson_coef, p_value = stats.pearsonr(x, y) #define the columns to perform calculations on\n",
    "print(\"Pearson Correlation Coefficient: \", pearson_coef, \"and a P-value of:\", p_value) # Results "
   ]
  },
  {
   "cell_type": "code",
   "execution_count": 38,
   "metadata": {},
   "outputs": [
    {
     "name": "stdout",
     "output_type": "stream",
     "text": [
      "Pearson Correlation Coefficient:  -0.08226044302568782 and a P-value of: 6.441344037163043e-06\n"
     ]
    }
   ],
   "source": [
    "from scipy import stats # For in-built method to get PCC    # 3000\n",
    "\n",
    "pearson_coef, p_value = stats.pearsonr(x, y) #define the columns to perform calculations on\n",
    "print(\"Pearson Correlation Coefficient: \", pearson_coef, \"and a P-value of:\", p_value) # Results "
   ]
  },
  {
   "cell_type": "code",
   "execution_count": null,
   "metadata": {},
   "outputs": [],
   "source": []
  }
 ],
 "metadata": {
  "kernelspec": {
   "display_name": "Python 3",
   "language": "python",
   "name": "python3"
  },
  "language_info": {
   "codemirror_mode": {
    "name": "ipython",
    "version": 3
   },
   "file_extension": ".py",
   "mimetype": "text/x-python",
   "name": "python",
   "nbconvert_exporter": "python",
   "pygments_lexer": "ipython3",
   "version": "3.7.10"
  }
 },
 "nbformat": 4,
 "nbformat_minor": 2
}
