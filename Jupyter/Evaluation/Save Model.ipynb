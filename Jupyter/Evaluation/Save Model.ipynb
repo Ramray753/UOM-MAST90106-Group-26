{
 "cells": [
  {
   "cell_type": "markdown",
   "id": "informed-interference",
   "metadata": {},
   "source": [
    "# 1. Save Model"
   ]
  },
  {
   "cell_type": "code",
   "execution_count": 1,
   "id": "contrary-prairie",
   "metadata": {},
   "outputs": [
    {
     "name": "stdout",
     "output_type": "stream",
     "text": [
      "2.4.2\n"
     ]
    }
   ],
   "source": [
    "import tensorflow as tf\n",
    "%matplotlib inline\n",
    "\n",
    "print(tf.__version__)"
   ]
  },
  {
   "cell_type": "code",
   "execution_count": 2,
   "id": "vietnamese-brake",
   "metadata": {},
   "outputs": [
    {
     "name": "stdout",
     "output_type": "stream",
     "text": [
      "/bin/bash: switchml: line 1: syntax error: unexpected end of file\r\n",
      "/bin/bash: error importing function definition for `switchml'\r\n",
      "/bin/bash: _moduleraw: line 1: syntax error: unexpected end of file\r\n",
      "/bin/bash: error importing function definition for `_moduleraw'\r\n",
      "Thu Sep  9 10:17:28 2021       \r\n",
      "+-----------------------------------------------------------------------------+\r\n",
      "| NVIDIA-SMI 450.142.00   Driver Version: 450.142.00   CUDA Version: 11.0     |\r\n",
      "|-------------------------------+----------------------+----------------------+\r\n",
      "| GPU  Name        Persistence-M| Bus-Id        Disp.A | Volatile Uncorr. ECC |\r\n",
      "| Fan  Temp  Perf  Pwr:Usage/Cap|         Memory-Usage | GPU-Util  Compute M. |\r\n",
      "|                               |                      |               MIG M. |\r\n",
      "|===============================+======================+======================|\r\n",
      "|   0  Tesla T4            On   | 00000000:00:1E.0 Off |                    0 |\r\n",
      "| N/A   48C    P0    33W /  70W |      0MiB / 15109MiB |      0%      Default |\r\n",
      "|                               |                      |                  N/A |\r\n",
      "+-------------------------------+----------------------+----------------------+\r\n",
      "                                                                               \r\n",
      "+-----------------------------------------------------------------------------+\r\n",
      "| Processes:                                                                  |\r\n",
      "|  GPU   GI   CI        PID   Type   Process name                  GPU Memory |\r\n",
      "|        ID   ID                                                   Usage      |\r\n",
      "|=============================================================================|\r\n",
      "|  No running processes found                                                 |\r\n",
      "+-----------------------------------------------------------------------------+\r\n"
     ]
    }
   ],
   "source": [
    "! nvidia-smi"
   ]
  },
  {
   "cell_type": "markdown",
   "id": "exposed-illustration",
   "metadata": {},
   "source": [
    "## 1.1 Binary Classification Model"
   ]
  },
  {
   "cell_type": "code",
   "execution_count": 3,
   "id": "reported-morgan",
   "metadata": {},
   "outputs": [],
   "source": [
    "from crack_utils import classification_block\n",
    "from tensorflow.keras.models import Model\n",
    "from tensorflow.keras.layers import Input\n",
    "from tensorflow.keras.regularizers import l2\n",
    "\n",
    "def MLP(input_size):\n",
    "    visible = Input(shape=(input_size, ))\n",
    "    layer = classification_block(visible, 16, decay=l2(0.001))\n",
    "    model = Model(inputs=visible, outputs=layer)\n",
    "    return model"
   ]
  },
  {
   "cell_type": "markdown",
   "id": "flexible-shark",
   "metadata": {},
   "source": [
    "### 1.1.1 DenseNet201 (Highest Accuracy)\n",
    "\n",
    "```\n",
    "Test loss: 0.28\n",
    "Test Accuracy: 0.90\n",
    "Test Precision: 0.92\n",
    "Test True Positive Rate: 0.89\n",
    "```"
   ]
  },
  {
   "cell_type": "code",
   "execution_count": 4,
   "id": "promotional-subscriber",
   "metadata": {},
   "outputs": [
    {
     "name": "stdout",
     "output_type": "stream",
     "text": [
      "Extension horovod.torch has not been built: /home/ubuntu/anaconda3/envs/tensorflow2_latest_p37/lib/python3.7/site-packages/horovod/torch/mpi_lib/_mpi_lib.cpython-37m-x86_64-linux-gnu.so not found\n",
      "If this is not expected, reinstall Horovod with HOROVOD_WITH_PYTORCH=1 to debug the build error.\n",
      "Warning! MPI libs are missing, but python applications are still avaiable.\n",
      "[2021-09-09 10:17:29.423 ip-172-31-5-51:10428 INFO utils.py:27] RULE_JOB_STOP_SIGNAL_FILENAME: None\n",
      "[2021-09-09 10:17:29.445 ip-172-31-5-51:10428 INFO profiler_config_parser.py:102] Unable to find config at /opt/ml/input/config/profilerconfig.json. Profiler is disabled.\n",
      "Processing 20 batch of train-set...\r"
     ]
    }
   ],
   "source": [
    "from crack_utils import load_binary_dataset, extract_in_batch\n",
    "from tensorflow.keras.applications import DenseNet201\n",
    "from tensorflow.keras.applications.densenet import preprocess_input as pre_densenet\n",
    "\n",
    "model = DenseNet201()\n",
    "model = Model(inputs=model.inputs, outputs=model.layers[-2].output)\n",
    "\n",
    "SRC_BINARY = \"/home/ubuntu/crack/Origin-Binary-Full\"\n",
    "\n",
    "x_train, _, y_train, _ = load_binary_dataset(SRC_BINARY, (224, 224))\n",
    "x_train = extract_in_batch(20, x_train, model, \"train\", pre_densenet)"
   ]
  },
  {
   "cell_type": "markdown",
   "id": "convenient-ebony",
   "metadata": {},
   "source": [
    "Number of samples for training:"
   ]
  },
  {
   "cell_type": "code",
   "execution_count": 5,
   "id": "capable-providence",
   "metadata": {},
   "outputs": [
    {
     "data": {
      "text/plain": [
       "(6770, 1920)"
      ]
     },
     "execution_count": 5,
     "metadata": {},
     "output_type": "execute_result"
    }
   ],
   "source": [
    "x_train.shape"
   ]
  },
  {
   "cell_type": "markdown",
   "id": "simplified-perth",
   "metadata": {},
   "source": [
    "Train and save the model:\n",
    "\n",
    "```\n",
    "Epoch 00092: early stopping\n",
    "```"
   ]
  },
  {
   "cell_type": "code",
   "execution_count": 6,
   "id": "regional-tobacco",
   "metadata": {},
   "outputs": [
    {
     "name": "stdout",
     "output_type": "stream",
     "text": [
      "CPU times: user 1min 3s, sys: 9.61 s, total: 1min 13s\n",
      "Wall time: 27.3 s\n"
     ]
    }
   ],
   "source": [
    "%%time\n",
    "\n",
    "from crack_utils import binary_compile\n",
    "\n",
    "model = MLP(x_train.shape[1])\n",
    "binary_compile(model, 0.001, 0.9)\n",
    "model.fit(x=x_train, y=y_train, batch_size=64, epochs=90, verbose=0)\n",
    "model.save(\"model/binary_TL_DenseNet201.h5\")"
   ]
  },
  {
   "cell_type": "markdown",
   "id": "brief-cigarette",
   "metadata": {},
   "source": [
    "## 1.2 Multinomial Classification Model\n",
    "\n",
    "### 1.2.1 ResNet152V2 (Highest Accuracy)\n",
    "\n",
    "```\n",
    "Test loss: 1.12\n",
    "Test accuracy: 0.63\n",
    "Test f1 micro: 0.63\n",
    "Test f1 macro: 0.55\n",
    "Test f1 weighted: 0.60\n",
    "```"
   ]
  },
  {
   "cell_type": "code",
   "execution_count": 7,
   "id": "under-lewis",
   "metadata": {},
   "outputs": [],
   "source": [
    "def MLP(input_size):\n",
    "    visible = Input(shape=(input_size, ))\n",
    "    layer = classification_block(visible, 32, classes=5, decay=l2(0.001))\n",
    "    model = Model(inputs=visible, outputs=layer)\n",
    "    return model"
   ]
  },
  {
   "cell_type": "code",
   "execution_count": 8,
   "id": "loaded-broadcasting",
   "metadata": {},
   "outputs": [
    {
     "name": "stdout",
     "output_type": "stream",
     "text": [
      "Processing 10 batch of train-set...\r"
     ]
    }
   ],
   "source": [
    "from crack_utils import load_multi_dataset\n",
    "from tensorflow.keras.utils import to_categorical\n",
    "from tensorflow.keras.applications import ResNet152V2\n",
    "from tensorflow.keras.applications.resnet_v2 import preprocess_input as pre_resnet_v2\n",
    "\n",
    "SRC_MULTI = \"/home/ubuntu/crack/Origin-Multi-Full\"\n",
    "\n",
    "model = ResNet152V2()\n",
    "model = Model(inputs=model.inputs, outputs=model.layers[-2].output)\n",
    "\n",
    "del x_train, y_train\n",
    "x_train, _, y_train, _ = load_multi_dataset(SRC_MULTI, (224, 224))\n",
    "\n",
    "x_train = extract_in_batch(10, x_train, model, \"train\", pre_resnet_v2)\n",
    "\n",
    "# convert integers to dummy variables (i.e. one hot encoded)\n",
    "y_train = to_categorical(y_train)"
   ]
  },
  {
   "cell_type": "markdown",
   "id": "overall-merchandise",
   "metadata": {},
   "source": [
    "Number of samples for training:"
   ]
  },
  {
   "cell_type": "code",
   "execution_count": 9,
   "id": "common-mileage",
   "metadata": {},
   "outputs": [
    {
     "data": {
      "text/plain": [
       "(3385, 2048)"
      ]
     },
     "execution_count": 9,
     "metadata": {},
     "output_type": "execute_result"
    }
   ],
   "source": [
    "x_train.shape"
   ]
  },
  {
   "cell_type": "markdown",
   "id": "celtic-continent",
   "metadata": {},
   "source": [
    "Train and save the model:\n",
    "\n",
    "```\n",
    "Epoch 00022: early stopping\n",
    "```"
   ]
  },
  {
   "cell_type": "markdown",
   "id": "fatal-humanity",
   "metadata": {},
   "source": [
    "Train and save the models:"
   ]
  },
  {
   "cell_type": "code",
   "execution_count": 10,
   "id": "hourly-oxford",
   "metadata": {},
   "outputs": [
    {
     "name": "stdout",
     "output_type": "stream",
     "text": [
      "CPU times: user 3.78 s, sys: 556 ms, total: 4.34 s\n",
      "Wall time: 2.42 s\n"
     ]
    }
   ],
   "source": [
    "%%time\n",
    "\n",
    "from crack_utils import multiple_compile\n",
    "\n",
    "model = MLP(x_train.shape[1])\n",
    "multiple_compile(model, 0.001, 0.9)\n",
    "model.fit(x=x_train, y=y_train, batch_size=64, epochs=25, verbose=0)\n",
    "model.save(\"model/multi_TL_ResNet152V2.h5\")"
   ]
  },
  {
   "cell_type": "markdown",
   "id": "private-allergy",
   "metadata": {},
   "source": [
    "### 1.2.2 DenseNet201 (Highest Macro F1 Score)\n",
    "\n",
    "```\n",
    "Test loss: 0.96\n",
    "Test accuracy: 0.60\n",
    "Test f1 micro: 0.60\n",
    "Test f1 macro: 0.59\n",
    "Test f1 weighted: 0.60\n",
    "```"
   ]
  },
  {
   "cell_type": "code",
   "execution_count": 11,
   "id": "afraid-camping",
   "metadata": {},
   "outputs": [],
   "source": [
    "def MLP(input_size):\n",
    "    visible = Input(shape=(input_size, ))\n",
    "    layer = classification_block(visible, 32, classes=5)\n",
    "    model = Model(inputs=visible, outputs=layer)\n",
    "    return model"
   ]
  },
  {
   "cell_type": "code",
   "execution_count": 12,
   "id": "objective-tunisia",
   "metadata": {},
   "outputs": [
    {
     "name": "stdout",
     "output_type": "stream",
     "text": [
      "Processing 10 batch of train-set...\r"
     ]
    }
   ],
   "source": [
    "model = DenseNet201()\n",
    "model = Model(inputs=model.inputs, outputs=model.layers[-2].output)\n",
    "\n",
    "del x_train, y_train\n",
    "x_train, _, y_train, _ = load_multi_dataset(SRC_MULTI, (224, 224))\n",
    "\n",
    "x_train = extract_in_batch(10, x_train, model, \"train\", pre_densenet)\n",
    "\n",
    "# convert integers to dummy variables (i.e. one hot encoded)\n",
    "y_train = to_categorical(y_train)"
   ]
  },
  {
   "cell_type": "markdown",
   "id": "previous-friday",
   "metadata": {},
   "source": [
    "Train and save the models:"
   ]
  },
  {
   "cell_type": "code",
   "execution_count": 13,
   "id": "civic-anatomy",
   "metadata": {},
   "outputs": [
    {
     "name": "stdout",
     "output_type": "stream",
     "text": [
      "CPU times: user 4.12 s, sys: 613 ms, total: 4.74 s\n",
      "Wall time: 2.66 s\n"
     ]
    }
   ],
   "source": [
    "%%time\n",
    "\n",
    "model = MLP(x_train.shape[1])\n",
    "multiple_compile(model, 0.01, 0.9)\n",
    "model.fit(x=x_train, y=y_train, batch_size=64, epochs=30, verbose=0)\n",
    "model.save(\"model/multi_TL_DenseNet201.h5\")"
   ]
  }
 ],
 "metadata": {
  "kernelspec": {
   "display_name": "Environment (conda_tensorflow2_latest_p37)",
   "language": "python",
   "name": "conda_tensorflow2_latest_p37"
  },
  "language_info": {
   "codemirror_mode": {
    "name": "ipython",
    "version": 3
   },
   "file_extension": ".py",
   "mimetype": "text/x-python",
   "name": "python",
   "nbconvert_exporter": "python",
   "pygments_lexer": "ipython3",
   "version": "3.7.10"
  }
 },
 "nbformat": 4,
 "nbformat_minor": 5
}
