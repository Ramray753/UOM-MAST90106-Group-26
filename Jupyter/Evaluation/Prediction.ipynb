{
 "cells": [
  {
   "cell_type": "code",
   "execution_count": 1,
   "id": "direct-experience",
   "metadata": {},
   "outputs": [
    {
     "name": "stdout",
     "output_type": "stream",
     "text": [
      "Extension horovod.torch has not been built: /home/ubuntu/anaconda3/envs/tensorflow2_latest_p37/lib/python3.7/site-packages/horovod/torch/mpi_lib/_mpi_lib.cpython-37m-x86_64-linux-gnu.so not found\n",
      "If this is not expected, reinstall Horovod with HOROVOD_WITH_PYTORCH=1 to debug the build error.\n",
      "Warning! MPI libs are missing, but python applications are still avaiable.\n",
      "[2021-09-09 12:48:14.465 ip-172-31-5-51:17229 INFO utils.py:27] RULE_JOB_STOP_SIGNAL_FILENAME: None\n",
      "[2021-09-09 12:48:14.486 ip-172-31-5-51:17229 INFO profiler_config_parser.py:102] Unable to find config at /opt/ml/input/config/profilerconfig.json. Profiler is disabled.\n",
      "Processing 10 batch...                             \r"
     ]
    }
   ],
   "source": [
    "import numpy as np \n",
    "import pandas as pd\n",
    "import os\n",
    "from tensorflow.keras.models import Model, load_model\n",
    "from tensorflow.keras.applications import DenseNet201\n",
    "from tensorflow.keras.applications.densenet import preprocess_input as pre_densenet\n",
    "from eval_utils import *\n",
    "\n",
    "SRC = \"/home/ubuntu/crack/Origin-Unlabeled\"\n",
    "STEP = 500\n",
    "\n",
    "if os.path.exists(\"save\"):\n",
    "    shutil.rmtree(\"save\")\n",
    "os.mkdir(\"save\")\n",
    "\n",
    "full_list = sorted([file for file in os.listdir(SRC) if file.endswith(\"JPG\") and not file.startswith(\".\")])\n",
    "index_step = np.arange(0, len(full_list), STEP)\n",
    "\n",
    "for i in range(len(index_step)):\n",
    "    start = index_step[i]\n",
    "    if i == len(index_step) - 1:\n",
    "        end = None\n",
    "    else:\n",
    "        end = index_step[i + 1]\n",
    "    image_list = full_list[start:end]\n",
    "    print(\"Now Processing Images {} to {} \".format(image_list[0], image_list[-1]), end=\"\\r\")\n",
    "    process_image(SRC, image_list)\n",
    "    images = load_image((224,224))\n",
    "    model = DenseNet201()\n",
    "    model = Model(inputs=model.inputs, outputs=model.layers[-2].output)\n",
    "    features = extract_in_batch(10, images, model, pre_densenet)\n",
    "    model = load_model('model/binary_TL_DenseNet201.h5')\n",
    "    y_pred_bi = np.where(model.predict(features) > 0.5, 1, 0).flatten()\n",
    "    y_pred_bi = np.array(decode(y_pred_bi))\n",
    "    model = load_model('model/multi_TL_DenseNet201.h5')\n",
    "    y_pred_mul = (np.argmax(model.predict(features), axis=1) + 2).flatten()\n",
    "    y_pred_mul = np.array(decode(y_pred_mul))\n",
    "    y_pred_mul[y_pred_bi == \"none\"] = \"none\"\n",
    "    df = pd.DataFrame(np.array(y_pred_mul).reshape((-1, 3)))\n",
    "    df.columns = [\"crack_1\", \"crack_2\", \"crack_3\"]\n",
    "    df.index = image_list\n",
    "    df.index.name = \"image_name\"\n",
    "    df.to_csv(\"save/{}.csv\".format(str(i).zfill(3)))\n",
    "    \n",
    "csv_list = sorted([file for file in os.listdir(\"save\") if file.endswith(\"csv\")])\n",
    "data = pd.concat([pd.read_csv(\"save/\" + file, index_col=0) for file in csv_list])\n",
    "data.to_csv(\"prediction.csv\")\n",
    "\n",
    "shutil.rmtree(\"save\")\n",
    "shutil.rmtree(\"temp\")"
   ]
  }
 ],
 "metadata": {
  "kernelspec": {
   "display_name": "Python 3",
   "language": "python",
   "name": "python3"
  },
  "language_info": {
   "codemirror_mode": {
    "name": "ipython",
    "version": 3
   },
   "file_extension": ".py",
   "mimetype": "text/x-python",
   "name": "python",
   "nbconvert_exporter": "python",
   "pygments_lexer": "ipython3",
   "version": "3.8.8"
  }
 },
 "nbformat": 4,
 "nbformat_minor": 5
}
