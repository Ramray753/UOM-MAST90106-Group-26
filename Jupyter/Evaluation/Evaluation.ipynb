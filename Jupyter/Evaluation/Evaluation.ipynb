{
 "cells": [
  {
   "cell_type": "markdown",
   "id": "ethical-heavy",
   "metadata": {},
   "source": [
    "# 1. Prediction\n"
   ]
  },
  {
   "cell_type": "code",
   "execution_count": 1,
   "id": "color-lebanon",
   "metadata": {},
   "outputs": [
    {
     "name": "stdout",
     "output_type": "stream",
     "text": [
      "2.4.2\n"
     ]
    }
   ],
   "source": [
    "import tensorflow as tf\n",
    "from eval_utils import *\n",
    "%matplotlib inline\n",
    "\n",
    "print(tf.__version__)"
   ]
  },
  {
   "cell_type": "code",
   "execution_count": 2,
   "id": "august-broadcast",
   "metadata": {},
   "outputs": [
    {
     "name": "stdout",
     "output_type": "stream",
     "text": [
      "/bin/bash: switchml: line 1: syntax error: unexpected end of file\r\n",
      "/bin/bash: error importing function definition for `switchml'\r\n",
      "/bin/bash: _moduleraw: line 1: syntax error: unexpected end of file\r\n",
      "/bin/bash: error importing function definition for `_moduleraw'\r\n",
      "Thu Sep  9 12:05:03 2021       \r\n",
      "+-----------------------------------------------------------------------------+\r\n",
      "| NVIDIA-SMI 450.142.00   Driver Version: 450.142.00   CUDA Version: 11.0     |\r\n",
      "|-------------------------------+----------------------+----------------------+\r\n",
      "| GPU  Name        Persistence-M| Bus-Id        Disp.A | Volatile Uncorr. ECC |\r\n",
      "| Fan  Temp  Perf  Pwr:Usage/Cap|         Memory-Usage | GPU-Util  Compute M. |\r\n",
      "|                               |                      |               MIG M. |\r\n",
      "|===============================+======================+======================|\r\n",
      "|   0  Tesla T4            On   | 00000000:00:1E.0 Off |                    0 |\r\n",
      "| N/A   40C    P0    26W /  70W |      0MiB / 15109MiB |      0%      Default |\r\n",
      "|                               |                      |                  N/A |\r\n",
      "+-------------------------------+----------------------+----------------------+\r\n",
      "                                                                               \r\n",
      "+-----------------------------------------------------------------------------+\r\n",
      "| Processes:                                                                  |\r\n",
      "|  GPU   GI   CI        PID   Type   Process name                  GPU Memory |\r\n",
      "|        ID   ID                                                   Usage      |\r\n",
      "|=============================================================================|\r\n",
      "|  No running processes found                                                 |\r\n",
      "+-----------------------------------------------------------------------------+\r\n"
     ]
    }
   ],
   "source": [
    "! nvidia-smi"
   ]
  },
  {
   "cell_type": "markdown",
   "id": "still-reunion",
   "metadata": {},
   "source": [
    "## 1.1 Load Image"
   ]
  },
  {
   "cell_type": "code",
   "execution_count": 3,
   "id": "prescription-australia",
   "metadata": {},
   "outputs": [
    {
     "name": "stdout",
     "output_type": "stream",
     "text": [
      "Now Processing Image: 06500.JPG  \r"
     ]
    }
   ],
   "source": [
    "import os\n",
    "\n",
    "SRC = \"/home/ubuntu/crack/Origin-New\"\n",
    "image_list = sorted([file for file in os.listdir(SRC) if file.endswith(\"JPG\")])\n",
    "\n",
    "process_image(SRC, image_list)"
   ]
  },
  {
   "cell_type": "code",
   "execution_count": 4,
   "id": "primary-teens",
   "metadata": {},
   "outputs": [
    {
     "data": {
      "text/plain": [
       "(1500, 224, 224, 1)"
      ]
     },
     "execution_count": 4,
     "metadata": {},
     "output_type": "execute_result"
    }
   ],
   "source": [
    "images = load_image((224,224))\n",
    "images.shape"
   ]
  },
  {
   "cell_type": "markdown",
   "id": "positive-orlando",
   "metadata": {},
   "source": [
    "## 1.2 Prediction - Binomial"
   ]
  },
  {
   "cell_type": "code",
   "execution_count": 5,
   "id": "basic-lucas",
   "metadata": {},
   "outputs": [
    {
     "name": "stdout",
     "output_type": "stream",
     "text": [
      "Extension horovod.torch has not been built: /home/ubuntu/anaconda3/envs/tensorflow2_latest_p37/lib/python3.7/site-packages/horovod/torch/mpi_lib/_mpi_lib.cpython-37m-x86_64-linux-gnu.so not found\n",
      "If this is not expected, reinstall Horovod with HOROVOD_WITH_PYTORCH=1 to debug the build error.\n",
      "Warning! MPI libs are missing, but python applications are still avaiable.\n",
      "[2021-09-09 12:05:26.508 ip-172-31-5-51:14743 INFO utils.py:27] RULE_JOB_STOP_SIGNAL_FILENAME: None\n",
      "[2021-09-09 12:05:26.530 ip-172-31-5-51:14743 INFO profiler_config_parser.py:102] Unable to find config at /opt/ml/input/config/profilerconfig.json. Profiler is disabled.\n",
      "Processing 10 batch...\r"
     ]
    },
    {
     "data": {
      "text/plain": [
       "(1500, 1920)"
      ]
     },
     "execution_count": 5,
     "metadata": {},
     "output_type": "execute_result"
    }
   ],
   "source": [
    "from tensorflow.keras.models import Model\n",
    "from tensorflow.keras.applications import ResNet152V2, DenseNet201\n",
    "from tensorflow.keras.applications.densenet import preprocess_input as pre_densenet\n",
    "from tensorflow.keras.applications.resnet_v2 import preprocess_input as pre_resnet_v2\n",
    "\n",
    "model = DenseNet201()\n",
    "model = Model(inputs=model.inputs, outputs=model.layers[-2].output)\n",
    "\n",
    "features = extract_in_batch(10, images, model, pre_densenet)\n",
    "features.shape"
   ]
  },
  {
   "cell_type": "code",
   "execution_count": 6,
   "id": "young-retreat",
   "metadata": {},
   "outputs": [],
   "source": [
    "from tensorflow.keras.models import load_model\n",
    "\n",
    "model = load_model('model/binary_TL_DenseNet201.h5')\n",
    "y_pred_bi = np.where(model.predict(features) > 0.5, 1, 0).flatten()\n",
    "y_pred_bi = np.array(decode(y_pred_bi))"
   ]
  },
  {
   "cell_type": "markdown",
   "id": "nonprofit-italian",
   "metadata": {},
   "source": [
    "## 1.3 Prediction - Multinomial"
   ]
  },
  {
   "cell_type": "markdown",
   "id": "desperate-snowboard",
   "metadata": {},
   "source": [
    "### 1.3.1 ResNet152V2"
   ]
  },
  {
   "cell_type": "code",
   "execution_count": 7,
   "id": "dimensional-beach",
   "metadata": {},
   "outputs": [
    {
     "name": "stdout",
     "output_type": "stream",
     "text": [
      "Processing 10 batch...\r"
     ]
    },
    {
     "data": {
      "text/plain": [
       "(1500, 2048)"
      ]
     },
     "execution_count": 7,
     "metadata": {},
     "output_type": "execute_result"
    }
   ],
   "source": [
    "model = ResNet152V2()\n",
    "model = Model(inputs=model.inputs, outputs=model.layers[-2].output)\n",
    "\n",
    "features = extract_in_batch(10, images, model, pre_resnet_v2)\n",
    "features.shape"
   ]
  },
  {
   "cell_type": "code",
   "execution_count": 8,
   "id": "complicated-touch",
   "metadata": {},
   "outputs": [],
   "source": [
    "model = load_model('model/multi_TL_ResNet152V2.h5')\n",
    "y_pred_mul_1 = (np.argmax(model.predict(features), axis=1) + 2).flatten()\n",
    "y_pred_mul_1 = np.array(decode(y_pred_mul_1))\n",
    "\n",
    "y_pred_mul_1[y_pred_bi == \"none\"] = \"none\""
   ]
  },
  {
   "cell_type": "markdown",
   "id": "bronze-vancouver",
   "metadata": {},
   "source": [
    "### 1.3.2 DenseNet201"
   ]
  },
  {
   "cell_type": "code",
   "execution_count": 9,
   "id": "searching-outdoors",
   "metadata": {},
   "outputs": [
    {
     "name": "stdout",
     "output_type": "stream",
     "text": [
      "Processing 10 batch...\r"
     ]
    },
    {
     "data": {
      "text/plain": [
       "(1500, 1920)"
      ]
     },
     "execution_count": 9,
     "metadata": {},
     "output_type": "execute_result"
    }
   ],
   "source": [
    "model = DenseNet201()\n",
    "model = Model(inputs=model.inputs, outputs=model.layers[-2].output)\n",
    "\n",
    "features = extract_in_batch(10, images, model, pre_densenet)\n",
    "features.shape"
   ]
  },
  {
   "cell_type": "code",
   "execution_count": 10,
   "id": "several-barcelona",
   "metadata": {},
   "outputs": [],
   "source": [
    "model = load_model('model/multi_TL_DenseNet201.h5')\n",
    "y_pred_mul_2 = (np.argmax(model.predict(features), axis=1) + 2).flatten()\n",
    "y_pred_mul_2 = np.array(decode(y_pred_mul_2))\n",
    "\n",
    "y_pred_mul_2[y_pred_bi == \"none\"] = \"none\""
   ]
  },
  {
   "cell_type": "markdown",
   "id": "lined-physics",
   "metadata": {},
   "source": [
    "# 2. Evaluation"
   ]
  },
  {
   "cell_type": "code",
   "execution_count": 11,
   "id": "controlled-complex",
   "metadata": {},
   "outputs": [
    {
     "data": {
      "text/html": [
       "<div>\n",
       "<style scoped>\n",
       "    .dataframe tbody tr th:only-of-type {\n",
       "        vertical-align: middle;\n",
       "    }\n",
       "\n",
       "    .dataframe tbody tr th {\n",
       "        vertical-align: top;\n",
       "    }\n",
       "\n",
       "    .dataframe thead th {\n",
       "        text-align: right;\n",
       "    }\n",
       "</style>\n",
       "<table border=\"1\" class=\"dataframe\">\n",
       "  <thead>\n",
       "    <tr style=\"text-align: right;\">\n",
       "      <th></th>\n",
       "      <th>crack_1</th>\n",
       "      <th>crack_2</th>\n",
       "      <th>crack_3</th>\n",
       "    </tr>\n",
       "    <tr>\n",
       "      <th>image_name</th>\n",
       "      <th></th>\n",
       "      <th></th>\n",
       "      <th></th>\n",
       "    </tr>\n",
       "  </thead>\n",
       "  <tbody>\n",
       "    <tr>\n",
       "      <th>06001.JPG</th>\n",
       "      <td>none</td>\n",
       "      <td>none</td>\n",
       "      <td>none</td>\n",
       "    </tr>\n",
       "    <tr>\n",
       "      <th>06002.JPG</th>\n",
       "      <td>none</td>\n",
       "      <td>long</td>\n",
       "      <td>long</td>\n",
       "    </tr>\n",
       "    <tr>\n",
       "      <th>06003.JPG</th>\n",
       "      <td>none</td>\n",
       "      <td>none</td>\n",
       "      <td>none</td>\n",
       "    </tr>\n",
       "    <tr>\n",
       "      <th>06004.JPG</th>\n",
       "      <td>none</td>\n",
       "      <td>none</td>\n",
       "      <td>none</td>\n",
       "    </tr>\n",
       "    <tr>\n",
       "      <th>06005.JPG</th>\n",
       "      <td>none</td>\n",
       "      <td>none</td>\n",
       "      <td>none</td>\n",
       "    </tr>\n",
       "  </tbody>\n",
       "</table>\n",
       "</div>"
      ],
      "text/plain": [
       "           crack_1 crack_2 crack_3\n",
       "image_name                        \n",
       "06001.JPG     none    none    none\n",
       "06002.JPG     none    long    long\n",
       "06003.JPG     none    none    none\n",
       "06004.JPG     none    none    none\n",
       "06005.JPG     none    none    none"
      ]
     },
     "execution_count": 11,
     "metadata": {},
     "output_type": "execute_result"
    }
   ],
   "source": [
    "import pandas as pd \n",
    "import numpy as np\n",
    "\n",
    "data = pd.read_csv(\"labels.csv\", index_col=0)\n",
    "data.head()"
   ]
  },
  {
   "cell_type": "code",
   "execution_count": 12,
   "id": "civil-performer",
   "metadata": {},
   "outputs": [],
   "source": [
    "y_true = {'crack_type' : data.values.reshape(-1,)}\n",
    "y_true = pd.DataFrame(y_true, index=np.repeat(data.index, len(data.columns)))[\"crack_type\"]\n",
    "y_true[y_true == \"RAIl\"] = \"rail\""
   ]
  },
  {
   "cell_type": "markdown",
   "id": "hollow-bidding",
   "metadata": {},
   "source": [
    "## 2.1 Binary Accuracy"
   ]
  },
  {
   "cell_type": "code",
   "execution_count": 13,
   "id": "computational-heating",
   "metadata": {},
   "outputs": [
    {
     "name": "stdout",
     "output_type": "stream",
     "text": [
      "              precision    recall  f1-score   support\n",
      "\n",
      "       crack       0.65      0.95      0.77       297\n",
      "        none       0.99      0.87      0.93      1203\n",
      "\n",
      "    accuracy                           0.89      1500\n",
      "   macro avg       0.82      0.91      0.85      1500\n",
      "weighted avg       0.92      0.89      0.90      1500\n",
      "\n",
      "Test accuracy: 0.89\n"
     ]
    }
   ],
   "source": [
    "y_true_bi = y_true.copy()\n",
    "y_true_bi[y_true != \"none\"] = \"crack\"\n",
    "get_result(y_true_bi, y_pred_bi, False)"
   ]
  },
  {
   "cell_type": "markdown",
   "id": "controlled-musician",
   "metadata": {},
   "source": [
    "## 2.2 Multi-nomial Accuracy"
   ]
  },
  {
   "cell_type": "code",
   "execution_count": 14,
   "id": "julian-hopkins",
   "metadata": {},
   "outputs": [
    {
     "name": "stdout",
     "output_type": "stream",
     "text": [
      "              precision    recall  f1-score   support\n",
      "\n",
      "        croc       0.85      0.68      0.76       145\n",
      "        diag       1.00      0.12      0.22        16\n",
      "         lat       0.00      0.00      0.00        17\n",
      "        long       0.59      0.69      0.64       118\n",
      "        none       0.00      0.00      0.00         0\n",
      "        rail       0.25      1.00      0.40         1\n",
      "\n",
      "    accuracy                           0.62       297\n",
      "   macro avg       0.45      0.42      0.34       297\n",
      "weighted avg       0.71      0.62      0.64       297\n",
      "\n",
      "Test accuracy: 0.62\n",
      "Test f1 micro: 0.62\n",
      "Test f1 macro: 0.34\n",
      "Test f1 weighted: 0.64\n"
     ]
    }
   ],
   "source": [
    "get_result(y_true[y_true != \"none\"], y_pred_mul_1[y_true != \"none\"])"
   ]
  },
  {
   "cell_type": "code",
   "execution_count": 15,
   "id": "mysterious-chocolate",
   "metadata": {},
   "outputs": [
    {
     "name": "stdout",
     "output_type": "stream",
     "text": [
      "              precision    recall  f1-score   support\n",
      "\n",
      "        croc       0.94      0.76      0.84       145\n",
      "        diag       0.50      0.44      0.47        16\n",
      "         lat       0.09      0.29      0.14        17\n",
      "        long       0.73      0.57      0.64       118\n",
      "        none       0.00      0.00      0.00         0\n",
      "        rail       0.25      1.00      0.40         1\n",
      "\n",
      "    accuracy                           0.64       297\n",
      "   macro avg       0.42      0.51      0.41       297\n",
      "weighted avg       0.78      0.64      0.70       297\n",
      "\n",
      "Test accuracy: 0.64\n",
      "Test f1 micro: 0.64\n",
      "Test f1 macro: 0.41\n",
      "Test f1 weighted: 0.70\n"
     ]
    }
   ],
   "source": [
    "get_result(y_true[y_true != \"none\"], y_pred_mul_2[y_true != \"none\"])"
   ]
  },
  {
   "cell_type": "markdown",
   "id": "rising-brunswick",
   "metadata": {},
   "source": [
    "## 2.2 Overall Accuracy"
   ]
  },
  {
   "cell_type": "code",
   "execution_count": 16,
   "id": "excess-twins",
   "metadata": {},
   "outputs": [
    {
     "name": "stdout",
     "output_type": "stream",
     "text": [
      "              precision    recall  f1-score   support\n",
      "\n",
      "        croc       0.73      0.68      0.71       145\n",
      "        diag       0.50      0.12      0.20        16\n",
      "         lat       0.00      0.00      0.00        17\n",
      "        long       0.37      0.69      0.48       118\n",
      "        none       0.99      0.87      0.93      1203\n",
      "        rail       0.20      1.00      0.33         1\n",
      "\n",
      "    accuracy                           0.82      1500\n",
      "   macro avg       0.46      0.56      0.44      1500\n",
      "weighted avg       0.90      0.82      0.85      1500\n",
      "\n",
      "Test accuracy: 0.82\n",
      "Test f1 micro: 0.82\n",
      "Test f1 macro: 0.44\n",
      "Test f1 weighted: 0.85\n"
     ]
    }
   ],
   "source": [
    "get_result(y_true, y_pred_mul_1)"
   ]
  },
  {
   "cell_type": "code",
   "execution_count": 17,
   "id": "smoking-revision",
   "metadata": {},
   "outputs": [
    {
     "name": "stdout",
     "output_type": "stream",
     "text": [
      "              precision    recall  f1-score   support\n",
      "\n",
      "        croc       0.79      0.76      0.77       145\n",
      "        diag       0.33      0.44      0.38        16\n",
      "         lat       0.04      0.29      0.07        17\n",
      "        long       0.46      0.57      0.51       118\n",
      "        none       0.99      0.87      0.93      1203\n",
      "        rail       0.12      1.00      0.22         1\n",
      "\n",
      "    accuracy                           0.83      1500\n",
      "   macro avg       0.46      0.66      0.48      1500\n",
      "weighted avg       0.91      0.83      0.86      1500\n",
      "\n",
      "Test accuracy: 0.83\n",
      "Test f1 micro: 0.83\n",
      "Test f1 macro: 0.48\n",
      "Test f1 weighted: 0.86\n"
     ]
    }
   ],
   "source": [
    "get_result(y_true, y_pred_mul_2)"
   ]
  },
  {
   "cell_type": "markdown",
   "id": "stuffed-nicaragua",
   "metadata": {},
   "source": [
    "## 2.3 Prediction Distribution"
   ]
  },
  {
   "cell_type": "code",
   "execution_count": 18,
   "id": "nearby-treatment",
   "metadata": {},
   "outputs": [
    {
     "data": {
      "text/plain": [
       "none    1066\n",
       "long     223\n",
       "croc     135\n",
       "lat       67\n",
       "rail       5\n",
       "diag       4\n",
       "dtype: int64"
      ]
     },
     "execution_count": 18,
     "metadata": {},
     "output_type": "execute_result"
    }
   ],
   "source": [
    "pd.Series(y_pred_mul_1).value_counts() "
   ]
  },
  {
   "cell_type": "code",
   "execution_count": 19,
   "id": "simple-architect",
   "metadata": {},
   "outputs": [
    {
     "data": {
      "text/plain": [
       "none    1066\n",
       "long     146\n",
       "croc     139\n",
       "lat      120\n",
       "diag      21\n",
       "rail       8\n",
       "dtype: int64"
      ]
     },
     "execution_count": 19,
     "metadata": {},
     "output_type": "execute_result"
    }
   ],
   "source": [
    "pd.Series(y_pred_mul_2).value_counts() "
   ]
  },
  {
   "cell_type": "code",
   "execution_count": 20,
   "id": "played-supervisor",
   "metadata": {},
   "outputs": [
    {
     "data": {
      "text/plain": [
       "none    1203\n",
       "croc     145\n",
       "long     118\n",
       "lat       17\n",
       "diag      16\n",
       "RAIl       1\n",
       "dtype: int64"
      ]
     },
     "execution_count": 20,
     "metadata": {},
     "output_type": "execute_result"
    }
   ],
   "source": [
    "pd.Series(data.values.reshape(-1,)).value_counts() "
   ]
  }
 ],
 "metadata": {
  "kernelspec": {
   "display_name": "Environment (conda_tensorflow2_latest_p37)",
   "language": "python",
   "name": "conda_tensorflow2_latest_p37"
  },
  "language_info": {
   "codemirror_mode": {
    "name": "ipython",
    "version": 3
   },
   "file_extension": ".py",
   "mimetype": "text/x-python",
   "name": "python",
   "nbconvert_exporter": "python",
   "pygments_lexer": "ipython3",
   "version": "3.7.10"
  }
 },
 "nbformat": 4,
 "nbformat_minor": 5
}
