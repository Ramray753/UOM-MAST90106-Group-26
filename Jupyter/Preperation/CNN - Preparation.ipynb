{
 "cells": [
  {
   "cell_type": "markdown",
   "id": "50c2b44a",
   "metadata": {},
   "source": [
    "# CNN - Preparation\n",
    "\n",
    "# 1. Dataset"
   ]
  },
  {
   "cell_type": "code",
   "execution_count": 1,
   "id": "5d0e9bb2",
   "metadata": {},
   "outputs": [
    {
     "data": {
      "text/plain": [
       "['0001-1500.csv', '4501-6000.csv', '1501-3000.csv', '3001-4500.csv']"
      ]
     },
     "execution_count": 1,
     "metadata": {},
     "output_type": "execute_result"
    }
   ],
   "source": [
    "import os\n",
    "\n",
    "def list_non_hidden_files(path):\n",
    "    return [f for f in os.listdir(path) if not f.startswith('.')]\n",
    "\n",
    "LABEL_PATH = \"/Users/ray/Desktop/26/Labels\"\n",
    "\n",
    "[f for f in list_non_hidden_files(LABEL_PATH) if not f.startswith('.')]"
   ]
  },
  {
   "cell_type": "markdown",
   "id": "b1d903f8",
   "metadata": {},
   "source": [
    "Import all dataset:"
   ]
  },
  {
   "cell_type": "code",
   "execution_count": 2,
   "id": "d2e033cf",
   "metadata": {},
   "outputs": [
    {
     "data": {
      "text/html": [
       "<div>\n",
       "<style scoped>\n",
       "    .dataframe tbody tr th:only-of-type {\n",
       "        vertical-align: middle;\n",
       "    }\n",
       "\n",
       "    .dataframe tbody tr th {\n",
       "        vertical-align: top;\n",
       "    }\n",
       "\n",
       "    .dataframe thead th {\n",
       "        text-align: right;\n",
       "    }\n",
       "</style>\n",
       "<table border=\"1\" class=\"dataframe\">\n",
       "  <thead>\n",
       "    <tr style=\"text-align: right;\">\n",
       "      <th></th>\n",
       "      <th>crack_1</th>\n",
       "      <th>crack_2</th>\n",
       "      <th>crack_3</th>\n",
       "    </tr>\n",
       "    <tr>\n",
       "      <th>image_name</th>\n",
       "      <th></th>\n",
       "      <th></th>\n",
       "      <th></th>\n",
       "    </tr>\n",
       "  </thead>\n",
       "  <tbody>\n",
       "    <tr>\n",
       "      <th>00001.JPG</th>\n",
       "      <td>long</td>\n",
       "      <td>long</td>\n",
       "      <td>long</td>\n",
       "    </tr>\n",
       "    <tr>\n",
       "      <th>00002.JPG</th>\n",
       "      <td>none</td>\n",
       "      <td>none</td>\n",
       "      <td>none</td>\n",
       "    </tr>\n",
       "    <tr>\n",
       "      <th>00003.JPG</th>\n",
       "      <td>none</td>\n",
       "      <td>none</td>\n",
       "      <td>none</td>\n",
       "    </tr>\n",
       "    <tr>\n",
       "      <th>00004.JPG</th>\n",
       "      <td>none</td>\n",
       "      <td>none</td>\n",
       "      <td>none</td>\n",
       "    </tr>\n",
       "    <tr>\n",
       "      <th>00005.JPG</th>\n",
       "      <td>long</td>\n",
       "      <td>long</td>\n",
       "      <td>long</td>\n",
       "    </tr>\n",
       "  </tbody>\n",
       "</table>\n",
       "</div>"
      ],
      "text/plain": [
       "           crack_1 crack_2 crack_3\n",
       "image_name                        \n",
       "00001.JPG     long    long    long\n",
       "00002.JPG     none    none    none\n",
       "00003.JPG     none    none    none\n",
       "00004.JPG     none    none    none\n",
       "00005.JPG     long    long    long"
      ]
     },
     "execution_count": 2,
     "metadata": {},
     "output_type": "execute_result"
    }
   ],
   "source": [
    "import pandas as pd \n",
    "import numpy as np\n",
    "\n",
    "data_list = list()\n",
    "for file_name in sorted(list_non_hidden_files(LABEL_PATH)):\n",
    "    if file_name.endswith(\"csv\"):\n",
    "        file_path = os.path.join(LABEL_PATH, file_name)\n",
    "        data_list.append(pd.read_csv(file_path, index_col=0))\n",
    "data = pd.concat(data_list)\n",
    "data.head()"
   ]
  },
  {
   "cell_type": "code",
   "execution_count": 3,
   "id": "12f0e9b9",
   "metadata": {},
   "outputs": [
    {
     "data": {
      "text/plain": [
       "(6000, 3)"
      ]
     },
     "execution_count": 3,
     "metadata": {},
     "output_type": "execute_result"
    }
   ],
   "source": [
    "data.shape"
   ]
  },
  {
   "cell_type": "code",
   "execution_count": 4,
   "id": "a845f782",
   "metadata": {
    "scrolled": true
   },
   "outputs": [
    {
     "data": {
      "text/plain": [
       "none    14615\n",
       "long     1543\n",
       "lat       954\n",
       "croc      645\n",
       "diag      110\n",
       "RAIl       78\n",
       "rail       55\n",
       "dtype: int64"
      ]
     },
     "execution_count": 4,
     "metadata": {},
     "output_type": "execute_result"
    }
   ],
   "source": [
    "counts = pd.Series(data.values.reshape(-1,)).value_counts() \n",
    "counts"
   ]
  },
  {
   "cell_type": "code",
   "execution_count": 5,
   "id": "d8daad20",
   "metadata": {
    "scrolled": true
   },
   "outputs": [
    {
     "data": {
      "text/plain": [
       "none    0.811944\n",
       "long    0.085722\n",
       "lat     0.053000\n",
       "croc    0.035833\n",
       "diag    0.006111\n",
       "RAIl    0.004333\n",
       "rail    0.003056\n",
       "dtype: float64"
      ]
     },
     "execution_count": 5,
     "metadata": {},
     "output_type": "execute_result"
    }
   ],
   "source": [
    "counts / (data.shape[0] * data.shape[1])"
   ]
  },
  {
   "cell_type": "markdown",
   "id": "07921ab9",
   "metadata": {},
   "source": [
    "Rename `RAIl` to `rail`."
   ]
  },
  {
   "cell_type": "code",
   "execution_count": 6,
   "id": "c05557c1",
   "metadata": {},
   "outputs": [
    {
     "data": {
      "text/plain": [
       "none    14615\n",
       "long     1543\n",
       "lat       954\n",
       "croc      645\n",
       "rail      133\n",
       "diag      110\n",
       "dtype: int64"
      ]
     },
     "execution_count": 6,
     "metadata": {},
     "output_type": "execute_result"
    }
   ],
   "source": [
    "for col in data.columns:\n",
    "    data[col] = data[col].str.lower()\n",
    "counts = pd.Series(data.values.reshape(-1,)).value_counts() \n",
    "counts"
   ]
  },
  {
   "cell_type": "code",
   "execution_count": 7,
   "id": "8e8638de",
   "metadata": {},
   "outputs": [
    {
     "data": {
      "text/plain": [
       "none    0.811944\n",
       "long    0.085722\n",
       "lat     0.053000\n",
       "croc    0.035833\n",
       "rail    0.007389\n",
       "diag    0.006111\n",
       "dtype: float64"
      ]
     },
     "execution_count": 7,
     "metadata": {},
     "output_type": "execute_result"
    }
   ],
   "source": [
    "counts / (data.shape[0] * data.shape[1])"
   ]
  },
  {
   "cell_type": "markdown",
   "id": "6a01ac1b",
   "metadata": {},
   "source": [
    "Percentage of \"crack\" lable:"
   ]
  },
  {
   "cell_type": "code",
   "execution_count": 8,
   "id": "b1df7313",
   "metadata": {},
   "outputs": [
    {
     "data": {
      "text/plain": [
       "0.18805555555555553"
      ]
     },
     "execution_count": 8,
     "metadata": {},
     "output_type": "execute_result"
    }
   ],
   "source": [
    "1 - counts[0]/(data.shape[0] * data.shape[1])"
   ]
  },
  {
   "cell_type": "markdown",
   "id": "be4aaf42",
   "metadata": {},
   "source": [
    "Number of non-crack photos:"
   ]
  },
  {
   "cell_type": "code",
   "execution_count": 9,
   "id": "130737c5",
   "metadata": {},
   "outputs": [
    {
     "data": {
      "text/plain": [
       "14615"
      ]
     },
     "execution_count": 9,
     "metadata": {},
     "output_type": "execute_result"
    }
   ],
   "source": [
    "counts[0]"
   ]
  },
  {
   "cell_type": "markdown",
   "id": "93dcf6cc",
   "metadata": {},
   "source": [
    "Number of crack photos:"
   ]
  },
  {
   "cell_type": "code",
   "execution_count": 10,
   "id": "31b0950e",
   "metadata": {},
   "outputs": [
    {
     "data": {
      "text/plain": [
       "3385"
      ]
     },
     "execution_count": 10,
     "metadata": {},
     "output_type": "execute_result"
    }
   ],
   "source": [
    "counts[1:].sum()"
   ]
  },
  {
   "cell_type": "code",
   "execution_count": 11,
   "id": "7f90fa24",
   "metadata": {},
   "outputs": [],
   "source": [
    "data.to_csv(os.path.join(LABEL_PATH, \"labels.csv\"))"
   ]
  },
  {
   "cell_type": "markdown",
   "id": "dd2638b6",
   "metadata": {},
   "source": [
    "# 2. Reorganize Folder Structure for Training\n",
    "\n",
    "The reason for doing this is total size for all compressed images is over 1GB, which loading all images as uncompressed numpy array would require several GBs of memory. Alternative approach is to load data from directory and train the model batch by batch."
   ]
  },
  {
   "cell_type": "code",
   "execution_count": 12,
   "id": "326f59f3",
   "metadata": {},
   "outputs": [],
   "source": [
    "import shutil\n",
    "\n",
    "SRC = \"/Users/ray/Desktop/crack-images/TH-Shuffled\"\n",
    "\n",
    "NAMES = [\"Origin\", \"CC\", \"KNN\", \"TH\", \"MOG\"]\n",
    "\n",
    "DEST_1_list = [\"/Users/ray/Desktop/crack-images/{}-Binary\".format(name) for name in NAMES]\n",
    "DEST_2_list = [\"/Users/ray/Desktop/crack-images/{}-Multi\".format(name) for name in NAMES]\n",
    "\n",
    "for dest_1, dest_2 in zip(DEST_1_list, DEST_2_list):\n",
    "    for path in [dest_1, dest_2]:\n",
    "        if os.path.exists(path):\n",
    "            shutil.rmtree(path) \n",
    "        os.mkdir(path)\n",
    "        for subdir_1 in [\"test\", \"train\"]:\n",
    "            subpath = os.path.join(path, subdir_1)\n",
    "            os.mkdir(subpath)\n",
    "            subdir_2_list = [\"none\", \"cracked\"]\n",
    "            if path.endswith(\"Multi\"):\n",
    "                subdir_2_list = list(counts.index)\n",
    "                subdir_2_list.remove(\"none\")\n",
    "            for subdir_2 in subdir_2_list:\n",
    "                os.mkdir(os.path.join(subpath, subdir_2))"
   ]
  },
  {
   "cell_type": "markdown",
   "id": "08f59f87",
   "metadata": {},
   "source": [
    "Split all images and save them to the corresponding folder. Shuffle all the split images, 75% to train and 25% to test.\n",
    "\n",
    "For binary classification, make sure two types have the same number of photos, which means need to discard \n",
    "some portion of \"none\" type photos.\n",
    "\n",
    "Save all split images in train set first."
   ]
  },
  {
   "cell_type": "code",
   "execution_count": 13,
   "id": "17f0e32c",
   "metadata": {},
   "outputs": [
    {
     "name": "stdout",
     "output_type": "stream",
     "text": [
      "Processing images in: /Users/ray/Desktop/crack-images/Origin-Shuffled\n",
      "Processing images in: /Users/ray/Desktop/crack-images/CC-Shuffled\n",
      "Processing images in: /Users/ray/Desktop/crack-images/KNN-Shuffled\n",
      "Processing images in: /Users/ray/Desktop/crack-images/TH-Shuffled\n",
      "Processing images in: /Users/ray/Desktop/crack-images/MOG-Shuffled\n",
      "Now processing image: 06000.JPG\r"
     ]
    }
   ],
   "source": [
    "from tensorflow.keras.preprocessing.image import load_img\n",
    "from tensorflow.keras.preprocessing.image import img_to_array\n",
    "from tensorflow.keras.preprocessing.image import save_img\n",
    "\n",
    "SRC_list = [\"/Users/ray/Desktop/crack-images/{}-Shuffled\".format(name) for name in NAMES]\n",
    "\n",
    "for src, dest_1, dest_2 in zip(SRC_list, DEST_1_list, DEST_2_list):\n",
    "    print(\"Processing images in: {}\".format(src))\n",
    "    for image_name in data.index:\n",
    "        # read image and crack information\n",
    "        count = int(image_name.split(\".\")[0])\n",
    "        image_path = os.path.join(src, image_name)\n",
    "        types = data.loc[image_name,:]\n",
    "        print(f\"Now processing image: {image_name}\", end=\"\\r\")\n",
    "\n",
    "        # load image\n",
    "        try:\n",
    "            image = img_to_array(load_img((image_path)))\n",
    "        except:\n",
    "            image_name = image_name.split(\".\")[0] + \".png\"\n",
    "            image_path = os.path.join(src, image_name)\n",
    "            image = img_to_array(load_img((image_path)))\n",
    "\n",
    "        # crop and split image\n",
    "        ideal_shape = (1230, 410, 3)\n",
    "        crop_bound = {\n",
    "            \"xmin\": int((image.shape[1] - ideal_shape[1]) / 2),\n",
    "            \"xmax\": int((image.shape[1] + ideal_shape[1]) / 2 - 1),\n",
    "            \"ymin\": int((image.shape[0] - ideal_shape[0]) / 2),\n",
    "            \"ymax\": int((image.shape[0] + ideal_shape[0]) / 2 -1)\n",
    "        }\n",
    "        images_cropped = image[crop_bound[\"ymin\"]:crop_bound[\"ymax\"] + 1, crop_bound[\"xmin\"]:crop_bound[\"xmax\"] + 1]\n",
    "        y_space = np.linspace(0, ideal_shape[0], 4).astype(int)\n",
    "        y_space[-1] += 1\n",
    "        images_split = [images_cropped[y_space[i]:y_space[i + 1],] for i in range(len(y_space) - 1)]\n",
    "\n",
    "        # save image\n",
    "        for i in range(3):\n",
    "            sub_image = images_split[i]\n",
    "            image_name = str(count).zfill(5) + f'-{i + 1}' + \".jpeg\"\n",
    "            label = types[i]\n",
    "            folder = \"train\"\n",
    "            if label != \"none\":\n",
    "                save_img(dest_1 + f\"/{folder}/cracked/{image_name}\", sub_image)\n",
    "                save_img(dest_2 + f\"/{folder}/{label}/{image_name}\", sub_image)\n",
    "            else:\n",
    "                save_img(dest_1 + f\"/{folder}/{label}/{image_name}\", sub_image)"
   ]
  },
  {
   "cell_type": "markdown",
   "id": "2fafa46b",
   "metadata": {},
   "source": [
    "Remove redundant \"none\" type photos:"
   ]
  },
  {
   "cell_type": "code",
   "execution_count": 14,
   "id": "9d5f8e66",
   "metadata": {},
   "outputs": [],
   "source": [
    "import random\n",
    "\n",
    "for dest_1, dest_2 in zip(DEST_1_list, DEST_2_list):\n",
    "    # calculate the number of each type\n",
    "    all_crack_list = list_non_hidden_files(f\"{dest_1}/train/cracked\")\n",
    "    all_none_list = list_non_hidden_files(f\"{dest_1}/train/none\")\n",
    "    all_crack = len(all_crack_list)\n",
    "    all_none = len(all_none_list)\n",
    "    remove = all_none - all_crack\n",
    "\n",
    "    # shuffle the crack images\n",
    "    random.seed(100)\n",
    "    random.shuffle(sorted(all_crack_list))\n",
    "    random.shuffle(sorted(all_none_list))\n",
    "\n",
    "    # remove redundant none images\n",
    "    for _ in range(remove):\n",
    "        image_name = all_none_list.pop(0)\n",
    "        os.remove(f\"{dest_1}/train/none/{image_name}\")\n",
    "\n",
    "    # train test split\n",
    "    for dest in [dest_1, dest_2]:\n",
    "        for label in list_non_hidden_files(f\"{dest}/train/\"):\n",
    "            image_list = sorted(list_non_hidden_files(f\"{dest}/train/{label}\"))\n",
    "            image_number = len(image_list)\n",
    "            random.seed(100)\n",
    "            random.shuffle(image_list)\n",
    "            to_move = int(image_number * 0.25)\n",
    "            for _ in range(to_move):\n",
    "                image_name = image_list.pop(0)\n",
    "                os.rename(f\"{dest}/train/{label}/{image_name}\", f\"{dest}/test/{label}/{image_name}\")"
   ]
  },
  {
   "cell_type": "code",
   "execution_count": 15,
   "id": "523f062b",
   "metadata": {},
   "outputs": [
    {
     "name": "stdout",
     "output_type": "stream",
     "text": [
      "* * * * * * * * * * * * * * * * * * * * * * * *\n",
      "/Users/ray/Desktop/crack-images/Origin-Binary/test/cracked: 846\n",
      "/Users/ray/Desktop/crack-images/Origin-Binary/test/none: 846\n",
      "/Users/ray/Desktop/crack-images/Origin-Binary/train/cracked: 2539\n",
      "/Users/ray/Desktop/crack-images/Origin-Binary/train/none: 2539\n",
      "/Users/ray/Desktop/crack-images/Origin-Multi/test/diag: 27\n",
      "/Users/ray/Desktop/crack-images/Origin-Multi/test/croc: 161\n",
      "/Users/ray/Desktop/crack-images/Origin-Multi/test/long: 385\n",
      "/Users/ray/Desktop/crack-images/Origin-Multi/test/rail: 33\n",
      "/Users/ray/Desktop/crack-images/Origin-Multi/test/lat: 238\n",
      "/Users/ray/Desktop/crack-images/Origin-Multi/train/diag: 83\n",
      "/Users/ray/Desktop/crack-images/Origin-Multi/train/croc: 484\n",
      "/Users/ray/Desktop/crack-images/Origin-Multi/train/long: 1158\n",
      "/Users/ray/Desktop/crack-images/Origin-Multi/train/rail: 100\n",
      "/Users/ray/Desktop/crack-images/Origin-Multi/train/lat: 716\n",
      "* * * * * * * * * * * * * * * * * * * * * * * *\n",
      "/Users/ray/Desktop/crack-images/CC-Binary/test/cracked: 846\n",
      "/Users/ray/Desktop/crack-images/CC-Binary/test/none: 846\n",
      "/Users/ray/Desktop/crack-images/CC-Binary/train/cracked: 2539\n",
      "/Users/ray/Desktop/crack-images/CC-Binary/train/none: 2539\n",
      "/Users/ray/Desktop/crack-images/CC-Multi/test/diag: 27\n",
      "/Users/ray/Desktop/crack-images/CC-Multi/test/croc: 161\n",
      "/Users/ray/Desktop/crack-images/CC-Multi/test/long: 385\n",
      "/Users/ray/Desktop/crack-images/CC-Multi/test/rail: 33\n",
      "/Users/ray/Desktop/crack-images/CC-Multi/test/lat: 238\n",
      "/Users/ray/Desktop/crack-images/CC-Multi/train/diag: 83\n",
      "/Users/ray/Desktop/crack-images/CC-Multi/train/croc: 484\n",
      "/Users/ray/Desktop/crack-images/CC-Multi/train/long: 1158\n",
      "/Users/ray/Desktop/crack-images/CC-Multi/train/rail: 100\n",
      "/Users/ray/Desktop/crack-images/CC-Multi/train/lat: 716\n",
      "* * * * * * * * * * * * * * * * * * * * * * * *\n",
      "/Users/ray/Desktop/crack-images/KNN-Binary/test/cracked: 846\n",
      "/Users/ray/Desktop/crack-images/KNN-Binary/test/none: 846\n",
      "/Users/ray/Desktop/crack-images/KNN-Binary/train/cracked: 2539\n",
      "/Users/ray/Desktop/crack-images/KNN-Binary/train/none: 2539\n",
      "/Users/ray/Desktop/crack-images/KNN-Multi/test/diag: 27\n",
      "/Users/ray/Desktop/crack-images/KNN-Multi/test/croc: 161\n",
      "/Users/ray/Desktop/crack-images/KNN-Multi/test/long: 385\n",
      "/Users/ray/Desktop/crack-images/KNN-Multi/test/rail: 33\n",
      "/Users/ray/Desktop/crack-images/KNN-Multi/test/lat: 238\n",
      "/Users/ray/Desktop/crack-images/KNN-Multi/train/diag: 83\n",
      "/Users/ray/Desktop/crack-images/KNN-Multi/train/croc: 484\n",
      "/Users/ray/Desktop/crack-images/KNN-Multi/train/long: 1158\n",
      "/Users/ray/Desktop/crack-images/KNN-Multi/train/rail: 100\n",
      "/Users/ray/Desktop/crack-images/KNN-Multi/train/lat: 716\n",
      "* * * * * * * * * * * * * * * * * * * * * * * *\n",
      "/Users/ray/Desktop/crack-images/TH-Binary/test/cracked: 846\n",
      "/Users/ray/Desktop/crack-images/TH-Binary/test/none: 846\n",
      "/Users/ray/Desktop/crack-images/TH-Binary/train/cracked: 2539\n",
      "/Users/ray/Desktop/crack-images/TH-Binary/train/none: 2539\n",
      "/Users/ray/Desktop/crack-images/TH-Multi/test/diag: 27\n",
      "/Users/ray/Desktop/crack-images/TH-Multi/test/croc: 161\n",
      "/Users/ray/Desktop/crack-images/TH-Multi/test/long: 385\n",
      "/Users/ray/Desktop/crack-images/TH-Multi/test/rail: 33\n",
      "/Users/ray/Desktop/crack-images/TH-Multi/test/lat: 238\n",
      "/Users/ray/Desktop/crack-images/TH-Multi/train/diag: 83\n",
      "/Users/ray/Desktop/crack-images/TH-Multi/train/croc: 484\n",
      "/Users/ray/Desktop/crack-images/TH-Multi/train/long: 1158\n",
      "/Users/ray/Desktop/crack-images/TH-Multi/train/rail: 100\n",
      "/Users/ray/Desktop/crack-images/TH-Multi/train/lat: 716\n",
      "* * * * * * * * * * * * * * * * * * * * * * * *\n",
      "/Users/ray/Desktop/crack-images/MOG-Binary/test/cracked: 846\n",
      "/Users/ray/Desktop/crack-images/MOG-Binary/test/none: 846\n",
      "/Users/ray/Desktop/crack-images/MOG-Binary/train/cracked: 2539\n",
      "/Users/ray/Desktop/crack-images/MOG-Binary/train/none: 2539\n",
      "/Users/ray/Desktop/crack-images/MOG-Multi/test/diag: 27\n",
      "/Users/ray/Desktop/crack-images/MOG-Multi/test/croc: 161\n",
      "/Users/ray/Desktop/crack-images/MOG-Multi/test/long: 385\n",
      "/Users/ray/Desktop/crack-images/MOG-Multi/test/rail: 33\n",
      "/Users/ray/Desktop/crack-images/MOG-Multi/test/lat: 238\n",
      "/Users/ray/Desktop/crack-images/MOG-Multi/train/diag: 83\n",
      "/Users/ray/Desktop/crack-images/MOG-Multi/train/croc: 484\n",
      "/Users/ray/Desktop/crack-images/MOG-Multi/train/long: 1158\n",
      "/Users/ray/Desktop/crack-images/MOG-Multi/train/rail: 100\n",
      "/Users/ray/Desktop/crack-images/MOG-Multi/train/lat: 716\n"
     ]
    }
   ],
   "source": [
    "for dest_1, dest_2 in zip(DEST_1_list, DEST_2_list):\n",
    "    print(\"* * * * * * * * * * * * * * * * * * * * * * * *\")\n",
    "    for dest in [dest_1, dest_2]:\n",
    "        for data_set in list_non_hidden_files(dest):\n",
    "            for label in list_non_hidden_files(f\"{dest}/{data_set}/\"):\n",
    "                number = len(list_non_hidden_files(f\"{dest}/{data_set}/{label}\"))\n",
    "                print(f\"{dest}/{data_set}/{label}: {number}\")"
   ]
  }
 ],
 "metadata": {
  "kernelspec": {
   "display_name": "Python 3",
   "language": "python",
   "name": "python3"
  },
  "language_info": {
   "codemirror_mode": {
    "name": "ipython",
    "version": 3
   },
   "file_extension": ".py",
   "mimetype": "text/x-python",
   "name": "python",
   "nbconvert_exporter": "python",
   "pygments_lexer": "ipython3",
   "version": "3.8.8"
  }
 },
 "nbformat": 4,
 "nbformat_minor": 5
}
